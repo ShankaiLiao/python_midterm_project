{
 "cells": [
  {
   "cell_type": "code",
   "execution_count": null,
   "id": "8b08121e-fdfc-49de-b417-50edd5df45d4",
   "metadata": {},
   "outputs": [],
   "source": [
    "import statsmodels.formula.api as sm\n",
    "dallas_select = dallas.loc[(dallas['PRCP'] > 0) & (dallas['AWND'] > 0) & (dallas['TMAX'] > 0),:].assign(log_base_PRCP = lambda x:np.log(x['PRCP'])).assign(log_base_AWND = lambda x:np.log(x['AWND'])).assign(log_base_TMAX = lambda x:np.log(x['TMAX']))\n",
    "\n",
    "\n",
    "results = sm.ols('Q(\"Daily Mean NO2 Concentration\") ~log_base_PRCP + log_base_AWND + log_base_TMAX', data=dallas_select).fit()"
   ]
  }
 ],
 "metadata": {
  "environment": {
   "kernel": "python3",
   "name": "common-cpu.m91",
   "type": "gcloud",
   "uri": "gcr.io/deeplearning-platform-release/base-cpu:m91"
  },
  "kernelspec": {
   "display_name": "Python 3",
   "language": "python",
   "name": "python3"
  },
  "language_info": {
   "codemirror_mode": {
    "name": "ipython",
    "version": 3
   },
   "file_extension": ".py",
   "mimetype": "text/x-python",
   "name": "python",
   "nbconvert_exporter": "python",
   "pygments_lexer": "ipython3",
   "version": "3.7.12"
  }
 },
 "nbformat": 4,
 "nbformat_minor": 5
}
